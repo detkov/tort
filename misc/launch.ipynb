{
 "cells": [
  {
   "cell_type": "code",
   "execution_count": 3,
   "metadata": {},
   "outputs": [],
   "source": [
    "from os.path import join\n",
    "\n",
    "from glob import glob"
   ]
  },
  {
   "cell_type": "code",
   "execution_count": 6,
   "metadata": {},
   "outputs": [
    {
     "data": {
      "text/plain": [
       "['configs/21/21_000.yaml',\n",
       " 'configs/21/21_001.yaml',\n",
       " 'configs/21/21_002.yaml',\n",
       " 'configs/21/21_003.yaml',\n",
       " 'configs/21/21_004.yaml',\n",
       " 'configs/21/21_005.yaml',\n",
       " 'configs/22/22_000.yaml',\n",
       " 'configs/22/22_001.yaml',\n",
       " 'configs/22/22_002.yaml',\n",
       " 'configs/22/22_003.yaml',\n",
       " 'configs/22/22_004.yaml',\n",
       " 'configs/22/22_005.yaml',\n",
       " 'configs/22/22_006.yaml',\n",
       " 'configs/22/22_007.yaml',\n",
       " 'configs/22/22_008.yaml',\n",
       " 'configs/22/22_009.yaml',\n",
       " 'configs/22/22_010.yaml',\n",
       " 'configs/22/22_011.yaml',\n",
       " 'configs/23/23_000.yaml',\n",
       " 'configs/23/23_001.yaml',\n",
       " 'configs/23/23_002.yaml',\n",
       " 'configs/23/23_003.yaml',\n",
       " 'configs/23/23_004.yaml',\n",
       " 'configs/23/23_005.yaml',\n",
       " 'configs/23/23_006.yaml',\n",
       " 'configs/23/23_007.yaml',\n",
       " 'configs/23/23_008.yaml',\n",
       " 'configs/23/23_009.yaml',\n",
       " 'configs/23/23_010.yaml',\n",
       " 'configs/23/23_011.yaml',\n",
       " 'configs/24/24_000.yaml',\n",
       " 'configs/24/24_001.yaml',\n",
       " 'configs/24/24_002.yaml',\n",
       " 'configs/24/24_003.yaml',\n",
       " 'configs/24/24_004.yaml',\n",
       " 'configs/24/24_005.yaml',\n",
       " 'configs/24/24_006.yaml',\n",
       " 'configs/24/24_007.yaml',\n",
       " 'configs/24/24_008.yaml',\n",
       " 'configs/24/24_009.yaml',\n",
       " 'configs/24/24_010.yaml',\n",
       " 'configs/24/24_011.yaml',\n",
       " 'configs/24/24_012.yaml',\n",
       " 'configs/24/24_013.yaml',\n",
       " 'configs/24/24_014.yaml',\n",
       " 'configs/24/24_015.yaml',\n",
       " 'configs/24/24_016.yaml',\n",
       " 'configs/24/24_017.yaml',\n",
       " 'configs/24/24_018.yaml',\n",
       " 'configs/24/24_019.yaml',\n",
       " 'configs/24/24_020.yaml',\n",
       " 'configs/24/24_021.yaml',\n",
       " 'configs/24/24_022.yaml',\n",
       " 'configs/24/24_023.yaml',\n",
       " 'configs/24/24_024.yaml',\n",
       " 'configs/24/24_025.yaml',\n",
       " 'configs/24/24_026.yaml',\n",
       " 'configs/24/24_027.yaml',\n",
       " 'configs/24/24_028.yaml',\n",
       " 'configs/24/24_029.yaml',\n",
       " 'configs/24/24_030.yaml',\n",
       " 'configs/24/24_031.yaml',\n",
       " 'configs/24/24_032.yaml',\n",
       " 'configs/24/24_033.yaml',\n",
       " 'configs/24/24_034.yaml',\n",
       " 'configs/24/24_035.yaml',\n",
       " 'configs/24/24_036.yaml',\n",
       " 'configs/24/24_037.yaml',\n",
       " 'configs/24/24_038.yaml',\n",
       " 'configs/24/24_039.yaml',\n",
       " 'configs/24/24_040.yaml',\n",
       " 'configs/24/24_041.yaml',\n",
       " 'configs/24/24_042.yaml',\n",
       " 'configs/24/24_043.yaml',\n",
       " 'configs/24/24_044.yaml',\n",
       " 'configs/24/24_045.yaml',\n",
       " 'configs/24/24_046.yaml',\n",
       " 'configs/24/24_047.yaml']"
      ]
     },
     "execution_count": 6,
     "metadata": {},
     "output_type": "execute_result"
    }
   ],
   "source": [
    "list_of_configs = (glob(join('configs', '21', '*.yaml')) + \n",
    "                   glob(join('configs', '22', '*.yaml')) + \n",
    "                   glob(join('configs', '23', '*.yaml')) + \n",
    "                   glob(join('configs', '24', '*.yaml')))\n",
    "list_of_configs.sort()\n",
    "list_of_configs"
   ]
  },
  {
   "cell_type": "code",
   "execution_count": 8,
   "metadata": {},
   "outputs": [
    {
     "data": {
      "text/plain": [
       "([array(['configs/21/21_000.yaml', 'configs/21/21_001.yaml',\n",
       "         'configs/21/21_002.yaml', 'configs/21/21_003.yaml',\n",
       "         'configs/21/21_004.yaml', 'configs/21/21_005.yaml',\n",
       "         'configs/22/22_000.yaml', 'configs/22/22_001.yaml',\n",
       "         'configs/22/22_002.yaml', 'configs/22/22_003.yaml',\n",
       "         'configs/22/22_004.yaml', 'configs/22/22_005.yaml',\n",
       "         'configs/22/22_006.yaml', 'configs/22/22_007.yaml',\n",
       "         'configs/22/22_008.yaml', 'configs/22/22_009.yaml'], dtype='<U22'),\n",
       "  array(['configs/22/22_010.yaml', 'configs/22/22_011.yaml',\n",
       "         'configs/23/23_000.yaml', 'configs/23/23_001.yaml',\n",
       "         'configs/23/23_002.yaml', 'configs/23/23_003.yaml',\n",
       "         'configs/23/23_004.yaml', 'configs/23/23_005.yaml',\n",
       "         'configs/23/23_006.yaml', 'configs/23/23_007.yaml',\n",
       "         'configs/23/23_008.yaml', 'configs/23/23_009.yaml',\n",
       "         'configs/23/23_010.yaml', 'configs/23/23_011.yaml',\n",
       "         'configs/24/24_000.yaml', 'configs/24/24_001.yaml'], dtype='<U22'),\n",
       "  array(['configs/24/24_002.yaml', 'configs/24/24_003.yaml',\n",
       "         'configs/24/24_004.yaml', 'configs/24/24_005.yaml',\n",
       "         'configs/24/24_006.yaml', 'configs/24/24_007.yaml',\n",
       "         'configs/24/24_008.yaml', 'configs/24/24_009.yaml',\n",
       "         'configs/24/24_010.yaml', 'configs/24/24_011.yaml',\n",
       "         'configs/24/24_012.yaml', 'configs/24/24_013.yaml',\n",
       "         'configs/24/24_014.yaml', 'configs/24/24_015.yaml',\n",
       "         'configs/24/24_016.yaml', 'configs/24/24_017.yaml'], dtype='<U22'),\n",
       "  array(['configs/24/24_018.yaml', 'configs/24/24_019.yaml',\n",
       "         'configs/24/24_020.yaml', 'configs/24/24_021.yaml',\n",
       "         'configs/24/24_022.yaml', 'configs/24/24_023.yaml',\n",
       "         'configs/24/24_024.yaml', 'configs/24/24_025.yaml',\n",
       "         'configs/24/24_026.yaml', 'configs/24/24_027.yaml',\n",
       "         'configs/24/24_028.yaml', 'configs/24/24_029.yaml',\n",
       "         'configs/24/24_030.yaml', 'configs/24/24_031.yaml',\n",
       "         'configs/24/24_032.yaml'], dtype='<U22'),\n",
       "  array(['configs/24/24_033.yaml', 'configs/24/24_034.yaml',\n",
       "         'configs/24/24_035.yaml', 'configs/24/24_036.yaml',\n",
       "         'configs/24/24_037.yaml', 'configs/24/24_038.yaml',\n",
       "         'configs/24/24_039.yaml', 'configs/24/24_040.yaml',\n",
       "         'configs/24/24_041.yaml', 'configs/24/24_042.yaml',\n",
       "         'configs/24/24_043.yaml', 'configs/24/24_044.yaml',\n",
       "         'configs/24/24_045.yaml', 'configs/24/24_046.yaml',\n",
       "         'configs/24/24_047.yaml'], dtype='<U22')],\n",
       " [16, 16, 16, 15, 15])"
      ]
     },
     "execution_count": 8,
     "metadata": {},
     "output_type": "execute_result"
    }
   ],
   "source": [
    "import numpy as np\n",
    "\n",
    "n_vms = 5\n",
    "\n",
    "configs_for_vms = np.array_split(list_of_configs, n_vms)\n",
    "configs_for_vms, [len(el) for el in configs_for_vms]"
   ]
  },
  {
   "cell_type": "code",
   "execution_count": 9,
   "metadata": {},
   "outputs": [
    {
     "data": {
      "text/plain": [
       "([['python train_ssl.py -c configs/21/21_000.yaml',\n",
       "   'python train_ssl.py -c configs/21/21_001.yaml',\n",
       "   'python train_ssl.py -c configs/21/21_002.yaml',\n",
       "   'python train_ssl.py -c configs/21/21_003.yaml',\n",
       "   'python train_ssl.py -c configs/21/21_004.yaml',\n",
       "   'python train_ssl.py -c configs/21/21_005.yaml',\n",
       "   'python train_ssl.py -c configs/22/22_000.yaml',\n",
       "   'python train_ssl.py -c configs/22/22_001.yaml',\n",
       "   'python train_ssl.py -c configs/22/22_002.yaml',\n",
       "   'python train_ssl.py -c configs/22/22_003.yaml',\n",
       "   'python train_ssl.py -c configs/22/22_004.yaml',\n",
       "   'python train_ssl.py -c configs/22/22_005.yaml',\n",
       "   'python train_ssl.py -c configs/22/22_006.yaml',\n",
       "   'python train_ssl.py -c configs/22/22_007.yaml',\n",
       "   'python train_ssl.py -c configs/22/22_008.yaml',\n",
       "   'python train_ssl.py -c configs/22/22_009.yaml'],\n",
       "  ['python train_ssl.py -c configs/22/22_010.yaml',\n",
       "   'python train_ssl.py -c configs/22/22_011.yaml',\n",
       "   'python train_ssl.py -c configs/23/23_000.yaml',\n",
       "   'python train_ssl.py -c configs/23/23_001.yaml',\n",
       "   'python train_ssl.py -c configs/23/23_002.yaml',\n",
       "   'python train_ssl.py -c configs/23/23_003.yaml',\n",
       "   'python train_ssl.py -c configs/23/23_004.yaml',\n",
       "   'python train_ssl.py -c configs/23/23_005.yaml',\n",
       "   'python train_ssl.py -c configs/23/23_006.yaml',\n",
       "   'python train_ssl.py -c configs/23/23_007.yaml',\n",
       "   'python train_ssl.py -c configs/23/23_008.yaml',\n",
       "   'python train_ssl.py -c configs/23/23_009.yaml',\n",
       "   'python train_ssl.py -c configs/23/23_010.yaml',\n",
       "   'python train_ssl.py -c configs/23/23_011.yaml',\n",
       "   'python train_ssl.py -c configs/24/24_000.yaml',\n",
       "   'python train_ssl.py -c configs/24/24_001.yaml'],\n",
       "  ['python train_ssl.py -c configs/24/24_002.yaml',\n",
       "   'python train_ssl.py -c configs/24/24_003.yaml',\n",
       "   'python train_ssl.py -c configs/24/24_004.yaml',\n",
       "   'python train_ssl.py -c configs/24/24_005.yaml',\n",
       "   'python train_ssl.py -c configs/24/24_006.yaml',\n",
       "   'python train_ssl.py -c configs/24/24_007.yaml',\n",
       "   'python train_ssl.py -c configs/24/24_008.yaml',\n",
       "   'python train_ssl.py -c configs/24/24_009.yaml',\n",
       "   'python train_ssl.py -c configs/24/24_010.yaml',\n",
       "   'python train_ssl.py -c configs/24/24_011.yaml',\n",
       "   'python train_ssl.py -c configs/24/24_012.yaml',\n",
       "   'python train_ssl.py -c configs/24/24_013.yaml',\n",
       "   'python train_ssl.py -c configs/24/24_014.yaml',\n",
       "   'python train_ssl.py -c configs/24/24_015.yaml',\n",
       "   'python train_ssl.py -c configs/24/24_016.yaml',\n",
       "   'python train_ssl.py -c configs/24/24_017.yaml'],\n",
       "  ['python train_ssl.py -c configs/24/24_018.yaml',\n",
       "   'python train_ssl.py -c configs/24/24_019.yaml',\n",
       "   'python train_ssl.py -c configs/24/24_020.yaml',\n",
       "   'python train_ssl.py -c configs/24/24_021.yaml',\n",
       "   'python train_ssl.py -c configs/24/24_022.yaml',\n",
       "   'python train_ssl.py -c configs/24/24_023.yaml',\n",
       "   'python train_ssl.py -c configs/24/24_024.yaml',\n",
       "   'python train_ssl.py -c configs/24/24_025.yaml',\n",
       "   'python train_ssl.py -c configs/24/24_026.yaml',\n",
       "   'python train_ssl.py -c configs/24/24_027.yaml',\n",
       "   'python train_ssl.py -c configs/24/24_028.yaml',\n",
       "   'python train_ssl.py -c configs/24/24_029.yaml',\n",
       "   'python train_ssl.py -c configs/24/24_030.yaml',\n",
       "   'python train_ssl.py -c configs/24/24_031.yaml',\n",
       "   'python train_ssl.py -c configs/24/24_032.yaml'],\n",
       "  ['python train_ssl.py -c configs/24/24_033.yaml',\n",
       "   'python train_ssl.py -c configs/24/24_034.yaml',\n",
       "   'python train_ssl.py -c configs/24/24_035.yaml',\n",
       "   'python train_ssl.py -c configs/24/24_036.yaml',\n",
       "   'python train_ssl.py -c configs/24/24_037.yaml',\n",
       "   'python train_ssl.py -c configs/24/24_038.yaml',\n",
       "   'python train_ssl.py -c configs/24/24_039.yaml',\n",
       "   'python train_ssl.py -c configs/24/24_040.yaml',\n",
       "   'python train_ssl.py -c configs/24/24_041.yaml',\n",
       "   'python train_ssl.py -c configs/24/24_042.yaml',\n",
       "   'python train_ssl.py -c configs/24/24_043.yaml',\n",
       "   'python train_ssl.py -c configs/24/24_044.yaml',\n",
       "   'python train_ssl.py -c configs/24/24_045.yaml',\n",
       "   'python train_ssl.py -c configs/24/24_046.yaml',\n",
       "   'python train_ssl.py -c configs/24/24_047.yaml']],\n",
       " [16, 16, 16, 15, 15])"
      ]
     },
     "execution_count": 9,
     "metadata": {},
     "output_type": "execute_result"
    }
   ],
   "source": [
    "command_start = 'python train_ssl.py -c '\n",
    "\n",
    "commands_for_vms = []\n",
    "for configs_for_vm in configs_for_vms:\n",
    "    commands_for_vms.append([command_start + el for el in configs_for_vm])\n",
    "commands_for_vms, [len(el) for el in commands_for_vms]"
   ]
  },
  {
   "cell_type": "code",
   "execution_count": 10,
   "metadata": {},
   "outputs": [
    {
     "data": {
      "text/plain": [
       "['python train_ssl.py -c configs/21/21_000.yaml || python train_ssl.py -c configs/21/21_001.yaml || python train_ssl.py -c configs/21/21_002.yaml || python train_ssl.py -c configs/21/21_003.yaml || python train_ssl.py -c configs/21/21_004.yaml || python train_ssl.py -c configs/21/21_005.yaml || python train_ssl.py -c configs/22/22_000.yaml || python train_ssl.py -c configs/22/22_001.yaml || python train_ssl.py -c configs/22/22_002.yaml || python train_ssl.py -c configs/22/22_003.yaml || python train_ssl.py -c configs/22/22_004.yaml || python train_ssl.py -c configs/22/22_005.yaml || python train_ssl.py -c configs/22/22_006.yaml || python train_ssl.py -c configs/22/22_007.yaml || python train_ssl.py -c configs/22/22_008.yaml || python train_ssl.py -c configs/22/22_009.yaml',\n",
       " 'python train_ssl.py -c configs/22/22_010.yaml || python train_ssl.py -c configs/22/22_011.yaml || python train_ssl.py -c configs/23/23_000.yaml || python train_ssl.py -c configs/23/23_001.yaml || python train_ssl.py -c configs/23/23_002.yaml || python train_ssl.py -c configs/23/23_003.yaml || python train_ssl.py -c configs/23/23_004.yaml || python train_ssl.py -c configs/23/23_005.yaml || python train_ssl.py -c configs/23/23_006.yaml || python train_ssl.py -c configs/23/23_007.yaml || python train_ssl.py -c configs/23/23_008.yaml || python train_ssl.py -c configs/23/23_009.yaml || python train_ssl.py -c configs/23/23_010.yaml || python train_ssl.py -c configs/23/23_011.yaml || python train_ssl.py -c configs/24/24_000.yaml || python train_ssl.py -c configs/24/24_001.yaml',\n",
       " 'python train_ssl.py -c configs/24/24_002.yaml || python train_ssl.py -c configs/24/24_003.yaml || python train_ssl.py -c configs/24/24_004.yaml || python train_ssl.py -c configs/24/24_005.yaml || python train_ssl.py -c configs/24/24_006.yaml || python train_ssl.py -c configs/24/24_007.yaml || python train_ssl.py -c configs/24/24_008.yaml || python train_ssl.py -c configs/24/24_009.yaml || python train_ssl.py -c configs/24/24_010.yaml || python train_ssl.py -c configs/24/24_011.yaml || python train_ssl.py -c configs/24/24_012.yaml || python train_ssl.py -c configs/24/24_013.yaml || python train_ssl.py -c configs/24/24_014.yaml || python train_ssl.py -c configs/24/24_015.yaml || python train_ssl.py -c configs/24/24_016.yaml || python train_ssl.py -c configs/24/24_017.yaml',\n",
       " 'python train_ssl.py -c configs/24/24_018.yaml || python train_ssl.py -c configs/24/24_019.yaml || python train_ssl.py -c configs/24/24_020.yaml || python train_ssl.py -c configs/24/24_021.yaml || python train_ssl.py -c configs/24/24_022.yaml || python train_ssl.py -c configs/24/24_023.yaml || python train_ssl.py -c configs/24/24_024.yaml || python train_ssl.py -c configs/24/24_025.yaml || python train_ssl.py -c configs/24/24_026.yaml || python train_ssl.py -c configs/24/24_027.yaml || python train_ssl.py -c configs/24/24_028.yaml || python train_ssl.py -c configs/24/24_029.yaml || python train_ssl.py -c configs/24/24_030.yaml || python train_ssl.py -c configs/24/24_031.yaml || python train_ssl.py -c configs/24/24_032.yaml',\n",
       " 'python train_ssl.py -c configs/24/24_033.yaml || python train_ssl.py -c configs/24/24_034.yaml || python train_ssl.py -c configs/24/24_035.yaml || python train_ssl.py -c configs/24/24_036.yaml || python train_ssl.py -c configs/24/24_037.yaml || python train_ssl.py -c configs/24/24_038.yaml || python train_ssl.py -c configs/24/24_039.yaml || python train_ssl.py -c configs/24/24_040.yaml || python train_ssl.py -c configs/24/24_041.yaml || python train_ssl.py -c configs/24/24_042.yaml || python train_ssl.py -c configs/24/24_043.yaml || python train_ssl.py -c configs/24/24_044.yaml || python train_ssl.py -c configs/24/24_045.yaml || python train_ssl.py -c configs/24/24_046.yaml || python train_ssl.py -c configs/24/24_047.yaml']"
      ]
     },
     "execution_count": 10,
     "metadata": {},
     "output_type": "execute_result"
    }
   ],
   "source": [
    "command_for_vms = [' ; '.join(el) for el in commands_for_vms]\n",
    "command_for_vms"
   ]
  },
  {
   "cell_type": "code",
   "execution_count": null,
   "metadata": {},
   "outputs": [],
   "source": []
  }
 ],
 "metadata": {
  "interpreter": {
   "hash": "d4d1e4263499bec80672ea0156c357c1ee493ec2b1c70f0acce89fc37c4a6abe"
  },
  "kernelspec": {
   "display_name": "Python 3.7.12 ('base')",
   "language": "python",
   "name": "python3"
  },
  "language_info": {
   "codemirror_mode": {
    "name": "ipython",
    "version": 3
   },
   "file_extension": ".py",
   "mimetype": "text/x-python",
   "name": "python",
   "nbconvert_exporter": "python",
   "pygments_lexer": "ipython3",
   "version": "3.7.12"
  },
  "orig_nbformat": 4
 },
 "nbformat": 4,
 "nbformat_minor": 2
}
